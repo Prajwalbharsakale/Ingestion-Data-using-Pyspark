{
 "metadata": {
  "kernelspec": {
   "display_name": "Streamlit Notebook",
   "name": "streamlit"
  }
 },
 "nbformat_minor": 5,
 "nbformat": 4,
 "cells": [
  {
   "cell_type": "code",
   "id": "3775908f-ca36-4846-8f38-5adca39217f2",
   "metadata": {
    "language": "python",
    "name": "Intial_setup"
   },
   "source": "# Import python packages\nimport pandas as pd\nfrom datetime import datetime\n\n#If the dataframe is large pandas will truncating the output with ....\n#for avoding truncating output setting up the display size\n\n#Set display options to show all columns and rows\npd.set_option('display.max_columns',None) #Show all columns\npd.set_option('display.max_rows',None) #Show all rows\npd.set_option('display.max_colwidth',None) #Show full column width if needed\n\n\n# Create a function to simulate current timestamp for simplicity\ndef current_timestamp():\n    return datetime.now()\n\n\n",
   "execution_count": null,
   "outputs": []
  },
  {
   "cell_type": "code",
   "id": "95b6ddec-2966-4446-8298-ff05d1550e78",
   "metadata": {
    "language": "python",
    "name": "Create_Soruce_table",
    "collapsed": false
   },
   "outputs": [],
   "source": "#Initial source table\n\ndata_source ={\n    \"customer_id\"  : [1,2,3,4,5,6],\n    \"first_name\"   : [\"Prajwal\",\"Shreyash\",\"Rudresh\",\"Abhijit\",\"Pradyumn\",\"Suyog\"],\n    \"last_name\"    : [\"Bharsakale\",\"Nagpure\",\"Pasarkar\",\"Katore\",\"Dharmale\",\"Kulkarni\"],\n    \"email\"        : [\"pbhar@gmail.com\",\"snag@gmail.com\",\"rpas@gmail.com\",\"akat@gmail.com\",\"pdha@gmail.com\",\"skul@gmail.com\"],\n    \"phone_number\" : [\"1234567890\",\"0987654321\",\"1234509876\",\"0987612345\",\"1234098567\",\"8907652341\"],\n    \"update_at\"    : [pd.Timestamp('2024-01-22 12:44:00'),pd.Timestamp('2024-04-29 09:55:59'),pd.Timestamp('2024-10-12 12:24:09'),pd.Timestamp('2024-09-22 11:32:07'),pd.Timestamp('2024-12-25 02:04:00'),pd.Timestamp('2024-06-22 08:31:50')]\n}\n\ndf_source = pd.DataFrame(data_source)\n\n#this will show the index by deault\nprint(df_source)\n\nprint('-------------------------------------------------------------------')\n#To Avoid index in 1st column we can use\nprint(df_source.to_string(index=False))",
   "execution_count": null
  },
  {
   "cell_type": "code",
   "id": "4123ead6-4778-4a8b-a707-6920759b084a",
   "metadata": {
    "language": "python",
    "name": "Target_table",
    "collapsed": false
   },
   "outputs": [],
   "source": "#Create an empty DataFrame for the target SCD2 table\ndf_scd2 = pd.DataFrame(columns=[\n    \"customer_id\", \"first_name\", \"last_name\", \"email\", \"phone_number\", \n    \"start_date\", \"end_date\", \"current_flag\"\n])\n\n#Initial data population for the SCD2 table from the source\ndf_scd2 = df_source.copy()\ndf_scd2[\"start_date\"] = current_timestamp()\ndf_scd2[\"end_date\"] = pd.NaT\ndf_scd2[\"current_flag\"] = True\n\nprint(df_scd2)\n\nprint('-------------------------------------------------------------------')\n#To Avoid index in 1st column we can use\nprint(df_scd2.to_string(index=False))",
   "execution_count": null
  },
  {
   "cell_type": "code",
   "id": "a1a4f985-b6af-4dbe-a907-95d9e7fd28a6",
   "metadata": {
    "language": "python",
    "name": "Insert_new_data_into_source_table",
    "collapsed": false
   },
   "outputs": [],
   "source": "#New data inserted into source (simulating an update)\n#Print pervious version of source\nprint('-------------------------------------------------------------------')\n#To Avoid index in 1st column we can use\nprint(df_source.to_string(index=False))\n\nnew_data ={\n      \"customer_id\"  : [1],\n    \"first_name\"   : [\"Prajwal\"],\n    \"last_name\"    : [\"Bharsakale\"],\n    \"email\"        : [\"pbharsakle@gmail.com\"], #updated email\n    \"phone_number\" : [\"1234567890\"],\n    \"update_at\"    : [pd.Timestamp('2024-01-22 12:44:00')]\n}\n\nnew_row = pd.DataFrame(new_data)\ndf_source = pd.concat([df_source,new_row],ignore_index=True)\n\nprint('-------------------------------------------------------------------')\nprint(df_source.to_string(index=False))\n",
   "execution_count": null
  },
  {
   "cell_type": "code",
   "id": "92f24ddd-895a-46ad-95f4-9254127a7480",
   "metadata": {
    "language": "python",
    "name": "SCD_Type2_Logic_To_Track_Changes_Step1_Indentify_Changed_Records",
    "collapsed": false
   },
   "outputs": [],
   "source": "#We'll compare the source and target DataFrame and find any differences in non-key columns for active\n#records in the target\n\n#print orginal data\nprint('-------------------------------------------------------------------')\n#To Avoid index in 1st column we can use\nprint(df_source.to_string(index=False))\n\n\n#Indentify records with changes by comparing current active records\ndf_active_scd2 = df_scd2[df_scd2[\"current_flag\"] == True]\n\n\n#print the records with current flag true\nprint('-------------------------------------------------------------------')\nprint(df_active_scd2.to_string(index=False))\n\n\n#Join source with target (active records only) to find the differences\ndf_changes = pd.merge(df_source, df_active_scd2, on =\"customer_id\", how=\"left\", suffixes=('_src','_tgt'))\n\n#print the change rows\nprint('-------------------------------------------------------------------')\nprint(df_changes.to_string(index=False))\n\n\n#Find rows with changes in any of the columns except 'customer_id'\ndf_changes = df_changes [\n    (df_changes [\"first_name_src\"] != df_changes[\"first_name_tgt\"]) |\n    (df_changes [\"last_name_src\"] != df_changes[\"last_name_tgt\"]) |\n    (df_changes [\"email_src\"] != df_changes[\"email_tgt\"]) |\n    (df_changes [\"phone_number_src\"] != df_changes[\"phone_number_tgt\"])\n]\n\n#select only changed records\ndf_changes = df_changes[[\"customer_id\",\"first_name_src\",\"last_name_src\",\"email_src\",\"phone_number_src\"]]\n\n#print the change rows\nprint('-------------------------------------------------------------------')\nprint(df_changes.to_string(index=False))\n",
   "execution_count": null
  },
  {
   "cell_type": "code",
   "id": "fa27f988-879e-43f5-9d31-e5801a1166d5",
   "metadata": {
    "language": "python",
    "name": "SCD_Type2_Logic_To_Track_Changes_Step2_Expire_The_Old_Records",
    "collapsed": false
   },
   "outputs": [],
   "source": "df_scd2.loc[df_scd2[\"customer_id\"].isin(df_changes[\"customer_id\"]), \"end_date\"] = current_timestamp()\ndf_scd2.loc[df_scd2[\"customer_id\"].isin(df_changes[\"customer_id\"]), \"current_flag\"] = False",
   "execution_count": null
  },
  {
   "cell_type": "code",
   "id": "5790ab4f-e6fd-4758-8eb0-fed7969215f6",
   "metadata": {
    "language": "python",
    "name": "SCD_Type2_Logic_To_Track_Changes_Step3_Insert_The_New_Records",
    "collapsed": false
   },
   "outputs": [],
   "source": "#Prepare the new records for insertion\ndf_new_records = df_changes.rename(columns={\n    \"first_name_src\":\"first_name\",\n    \"last_name_src\":\"last_name\",\n    \"email_src\":\"email\",\n    \"phone_number_src\":\"phone_number\"\n})\n\n#Add SCD2-specific columns to new records\ndf_new_records[\"start_date\"] = current_timestamp()\ndf_new_records[\"end_date\"] = pd.NaT\ndf_new_records[\"current_flag\"] = True\n\n#Append the new records to the SCD2 table\ndf_scd2 = pd.concat([df_scd2,df_new_records], ignore_index=True)\n",
   "execution_count": null
  },
  {
   "cell_type": "code",
   "id": "1f55070f-4e31-473c-9783-b518e9d000ff",
   "metadata": {
    "language": "python",
    "name": "Final_Check_for_Target_table_data",
    "collapsed": false
   },
   "outputs": [],
   "source": "#Drop unwanted columns such as 'update_at'\ndf_scd2 = df_scd2.drop(columns=[\"updated_at\"], errors='ignore')\n\n#Ensure no duplicate 'current_flag' column\ndf_scd2 = df_scd2.loc[:, ~df_scd2.columns.duplicated()]\n\n#Select only the required columns for the final SCD2 table\n\ndf_scd2 = df_scd2[[\"customer_id\", \"first_name\", \"last_name\", \"email\", \"phone_number\",\n                   \"start_date\", \"end_date\", \"current_flag\" \n]]\n#Print source data\nprint('-------------------------------------------------------------------')\n#To Avoid index in 1st column we can use\nprint(df_source.to_string(index=False))\n\n#Print Target data\nprint('-------------------------------------------------------------------')\n#To Avoid index in 1st column we can use\nprint(df_scd2.to_string(index=False))\n",
   "execution_count": null
  },
  {
   "cell_type": "code",
   "id": "5ed2d39f-c2fa-4968-92f8-40ef57b1690e",
   "metadata": {
    "language": "python",
    "name": "cell1",
    "collapsed": false
   },
   "outputs": [],
   "source": "#different syntax realted to DataFrame\n\n#Printing the dictionary created for dataframe\nprint('##################################################################')\nprint('Printing the dictionary created for dataframe')\nprint('##################################################################')\nprint(data_source)\nprint('===================================================================')\n\n\n#simple to print all data of dataframe\nprint('##################################################################')\nprint('simple to print all data of dataframe')\nprint('##################################################################')\nprint(df_source)\nprint('===================================================================')\n\n#Print by avoiding the truncating ouput\nprint('##################################################################')\nprint('Print by avoiding the truncating ouput')\nprint('##################################################################')\nprint(df_source.to_string(index=False))\nprint('===================================================================')\n\n#Print only 1st row\nprint('##################################################################')\nprint('Print only 1st row')\nprint('##################################################################')\nprint(df_source.loc[0])\nprint('===================================================================')\n\n#Print 2 rows from DataFrame\nprint('##################################################################')\nprint('Print 2 rows from DataFrame')\nprint('##################################################################')\nprint(df_source.loc[[0,1]])\nprint('===================================================================')\n\n#Print head 3 rows\nprint('##################################################################')\nprint('Print head 3 rows')\nprint('##################################################################')\nprint(df_source.head(2))\nprint('===================================================================')\n\n\n#Print head rows -- if we didn't mention the head value it will take 5 as by default\nprint('##################################################################')\nprint(\"Print head rows -- if we didn't mention the head value it will take 5 as by default\")\nprint('##################################################################')\nprint(df_source.head())\nprint('===================================================================')\n\n\n#Read csv & json file -- it will not work but we can write syntax only\nprint('##################################################################')\nprint(\"Read csv & json file -- it will not work but we can write syntax only\")\nprint('##################################################################')\nread_csv_file = pd.read_csv()\nread_json_file = pd.read_json()\nprint('===================================================================')\n\n",
   "execution_count": null
  }
 ]
}