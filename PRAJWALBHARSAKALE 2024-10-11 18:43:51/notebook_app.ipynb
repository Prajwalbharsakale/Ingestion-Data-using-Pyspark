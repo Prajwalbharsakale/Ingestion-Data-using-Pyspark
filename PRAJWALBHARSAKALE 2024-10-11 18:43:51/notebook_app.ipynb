{
 "metadata": {
  "kernelspec": {
   "display_name": "Streamlit Notebook",
   "name": "streamlit"
  }
 },
 "nbformat_minor": 5,
 "nbformat": 4,
 "cells": [
  {
   "cell_type": "code",
   "id": "3775908f-ca36-4846-8f38-5adca39217f2",
   "metadata": {
    "language": "python",
    "name": "cell1"
   },
   "source": "# Import python packages\nimport streamlit as st\nimport pandas as pd\n\n# We can also use Snowpark for our analyses!\nfrom snowflake.snowpark.context import get_active_session\nsession = get_active_session()\n",
   "execution_count": null,
   "outputs": []
  },
  {
   "cell_type": "code",
   "id": "8d50cbf4-0c8d-4950-86cb-114990437ac9",
   "metadata": {
    "language": "sql",
    "name": "cell2"
   },
   "source": "-- Welcome to Snowflake Notebooks!\n-- Try out a SQL cell to generate some data.\nSELECT 'FRIDAY' as SNOWDAY, 0.2 as CHANCE_OF_SNOW\nUNION ALL\nSELECT 'SATURDAY',0.5\nUNION ALL \nSELECT 'SUNDAY', 0.9;",
   "execution_count": null,
   "outputs": []
  },
  {
   "cell_type": "code",
   "id": "c695373e-ac74-4b62-a1f1-08206cbd5c81",
   "metadata": {
    "language": "python",
    "name": "cell3"
   },
   "source": "# Then, we can use the python name to turn cell2 into a Pandas dataframe\nmy_df = cell2.to_pandas()\n\n# Chart the data\nst.subheader(\"Chance of SNOW ❄️\")\nst.line_chart(my_df, x='SNOWDAY', y='CHANCE_OF_SNOW')\n\n# Give it a go!\nst.subheader(\"Try it out yourself and show off your skills 🥇\")",
   "execution_count": null,
   "outputs": []
  },
  {
   "cell_type": "code",
   "id": "0f2362f7-014f-44d8-abb0-c06c41f25c74",
   "metadata": {
    "language": "python",
    "name": "cell4"
   },
   "outputs": [],
   "source": "# Then, we can use the python name to turn cell2 into a Pandas dataframe\n# Import python packages\nimport streamlit as st\nimport pandas as pd\n\nmy_df = cell2.to_pandas()\n\n# Chart the data\nst.subheader(\"Chance of SNOW ❄️\")\nst.line_chart(my_df, x='SNOWDAY', y='CHANCE_OF_SNOW')\n\n# Give it a go!\nst.subheader(\"Try it out yourself and show off your skills 🥇\")",
   "execution_count": null
  },
  {
   "cell_type": "code",
   "id": "d714dd30-7646-4d60-9c75-27b6c18dd9a8",
   "metadata": {
    "language": "python",
    "name": "Sample_Table_creation"
   },
   "outputs": [],
   "source": "#-- Welcome to Snowflake Notebooks!\n# Create table using the pandas\n\n#creating the dataframe using the dictonary.\nimport pandas as pd\n\ndata = { 'Name' : ['Prajwal','Suyog','Shreyash','Pradyumn','Abhijit','Yash'],\n         'Gender' : ['Male','Male','Male','Male','Male','Male']\n}\n\ndf = pd.DataFrame(data)\n\nprint(df)\n\n\n",
   "execution_count": null
  }
 ]
}